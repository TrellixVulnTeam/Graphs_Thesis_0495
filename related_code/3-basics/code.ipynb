{
 "cells": [
  {
   "cell_type": "markdown",
   "metadata": {},
   "source": [
    "# Graph network code for Jodie"
   ]
  },
  {
   "cell_type": "code",
   "execution_count": 172,
   "metadata": {},
   "outputs": [],
   "source": [
    "# import pandas as pd\n",
    "# import numpy as np\n",
    "# import json\n",
    "\n",
    "# df = pd.read_csv('./data/aruba/aruba.csv')\n",
    "\n",
    "# with open('./data/aruba/aruba.json') as f:\n",
    "\n",
    "#     jsonfile = json.load(f)\n",
    "\n",
    "# # jsonfile\n",
    "\n",
    "\n",
    "# print((df.values.shape))\n",
    "\n",
    "\n",
    "\n",
    "# config = {\"config\": [\n",
    "\n",
    "#     {\"name\": \"Meal_Preparation\", \"id\": 0},\n",
    "#     {\"name\": \"Relax\", \"id\": 1},\n",
    "#     {\"name\": \"Eating\", \"id\": 2},\n",
    "#     {\"name\": \"Work\", \"id\": 3},\n",
    "#     {\"name\": \"Sleeping\", \"id\": 4},\n",
    "#     {\"name\": \"Wash_Dishes\", \"id\": 5},\n",
    "#     {\"name\": \"Bed_to_Toilet\", \"id\": 6},\n",
    "#     {\"name\": \"Enter_Home\", \"id\": 7},\n",
    "#     {\"name\": \"Leave_Home\", \"id\": 8},\n",
    "#     {\"name\": \"Housekeeping\", \"id\": 9},\n",
    "#     {\"name\": \"Respirate\", \"id\": 10},\n",
    "#     {\"name\": \"Idle\", \"id\": 11}\n",
    "# ]\n",
    "# }\n",
    "\n",
    "# # for all the values that are 1 in the sensor\n",
    "# # user_id = room_id (json)\n",
    "# # item_id = sensor_id(json)\n",
    "# # comma_separated_list_of_features = [SensorType(json), Spos(json), value(csv), time_of_the__day(csv), rtype, room_location ]\n",
    "# # state_label = activity (from csv for that row)\n",
    "\n",
    "# columns = df.columns[4:]\n",
    "# rows = []\n",
    "# for i, row in enumerate(df.values):\n",
    "\n",
    "#     if i == 100:\n",
    "#         break\n",
    "#         # get names of column where value is 1\n",
    "#     sensor_True_Col = np.nonzero(row[4:] == 1)[0]\n",
    "#     if sensor_True_Col.size != 0:\n",
    "#         # print(i)\n",
    "#         for val in sensor_True_Col:\n",
    "#             # print(columns[val])\n",
    "#             sensorName = columns[val]\n",
    "#             # print(row)\n",
    "#             row_rBedPressureRightoom = [row_room for row_room in jsonfile['rooms_location'] if sensorName in row_room['sensorsInRoom']][\n",
    "#                 0]\n",
    "#             user_id = row_room['id']\n",
    "\n",
    "#             row_sensor = [[row_sensor['id'], row_sensor['location'], row_sensor['name']] for row_sensor in\n",
    "#                           jsonfile['sensor_location'] if row_sensor['name'] == sensorName]\n",
    "#             item_id = row_sensor[0][0]\n",
    "#             row_sensor_name = row_sensor[0][2]\n",
    "#             sensor_type = [155 if row_sensor_name.startswith('D') else 13][0]\n",
    "#             sensorPosition = row_sensor[0][1]\n",
    "#             value = 1\n",
    "#             timestamp = row[3]\n",
    "#             state_label = [className['id'] for className in config['config'] if className['name'] == row[2]][0]\n",
    "#             comma_separated_list_of_features = np.array(\n",
    "#                 [sensor_type, sensorPosition[0], sensorPosition[1], value, timestamp, row_room['id'],\n",
    "#                  ])\n",
    "\n",
    "#             B = np.copy(np.array([user_id, item_id, timestamp, state_label, comma_separated_list_of_features]))\n",
    "#             rows.append(B)\n",
    "\n",
    "#     else:\n",
    "#         state_label = [className['id'] for className in config['config'] if className['name'] == row[2]][0]\n",
    "#         rows.append(np.array(\n",
    "#             [user_id, item_id, row[3], state_label, np.array([sensor_type, sensorPosition[0], sensorPosition[1], 0, row_room['id']])]))\n",
    "\n",
    "# wikiDataFrame = pd.DataFrame(rows, columns=['user_id', 'item_id', 'timestamp', 'state_label',\n",
    "#                                             'comma_separated_list_of_features'])\n",
    "\n",
    "# wikiDataFrame.to_csv('wikipedia.csv')\n",
    "\n",
    "\n",
    "\n"
   ]
  },
  {
   "cell_type": "markdown",
   "metadata": {},
   "source": [
    "# Make Master CSV"
   ]
  },
  {
   "cell_type": "code",
   "execution_count": 9,
   "metadata": {},
   "outputs": [],
   "source": [
    "import pandas as pd\n",
    "import numpy as np\n",
    "import json\n",
    "\n",
    "\n",
    "houseC = pd.read_csv('./data/master/houseC.csv')\n",
    "ordonezB = pd.read_csv('./data/master/ordonezB.csv')\n",
    "\n",
    "with open('./data/master/master.json') as f:\n",
    "\n",
    "    masterJson = json.load(f)"
   ]
  },
  {
   "cell_type": "code",
   "execution_count": 3,
   "metadata": {},
   "outputs": [
    {
     "name": "stdout",
     "output_type": "stream",
     "text": [
      "BedPressureRight\n",
      "BasinBathroomPIR\n",
      "ToiletFlushSensor\n",
      "ShowerBathroomPIR\n",
      "FridgeMagnetic\n",
      "GroceriesCupboard\n",
      "Microwave\n",
      "ToiletSeatPressureSensor\n",
      "FrontDoorMagnetic\n",
      "LivingRoomDoorPIR\n",
      "KitchenRoomDoorPIR\n",
      "BedRoomDoorPIR\n"
     ]
    }
   ],
   "source": [
    "df = pd.DataFrame( )\n",
    "for key in masterJson.keys():\n",
    "        \n",
    "    currentCSV = key + '.csv'\n",
    "    currentCSV = pd.read_csv('./data/master/' + currentCSV)\n",
    "    temp = currentCSV[['start', 'end', 'activity', 'time_of_the_day']].copy()\n",
    "    \n",
    "    for dictionary in masterJson[key]:\n",
    "        genericColumn = list(dictionary.keys())[0]            \n",
    "        specificColumn = dictionary[genericColumn][0]['name']            \n",
    "        temp[genericColumn] = currentCSV[specificColumn]\n",
    "    df = pd.concat([df, temp])    \n",
    "    df = df.fillna(-1)\n",
    "    df.iloc[:,4:] = df[df.columns[4:]].apply(pd.to_numeric, downcast='integer')    \n",
    "\n",
    "    \n",
    "# df.to_csv('../Research/data/master/master.csv', index=False)"
   ]
  },
  {
   "cell_type": "markdown",
   "metadata": {},
   "source": [
    "# Getting Unique activities in CSV's\n"
   ]
  },
  {
   "cell_type": "code",
   "execution_count": 196,
   "metadata": {},
   "outputs": [
    {
     "name": "stdout",
     "output_type": "stream",
     "text": [
      "/home/harsh/Downloads/Thesis/Graph/dgl/related_code/3-basics\r\n"
     ]
    }
   ],
   "source": [
    "!pwd"
   ]
  },
  {
   "cell_type": "code",
   "execution_count": 199,
   "metadata": {},
   "outputs": [],
   "source": [
    "\n",
    "\n",
    "# df = pd.read_csv('./data/houseC/houseC.csv')\n",
    "\n"
   ]
  },
  {
   "cell_type": "markdown",
   "metadata": {},
   "source": [
    "# Making Nodes and Edges for graph through house json file"
   ]
  },
  {
   "cell_type": "code",
   "execution_count": 6,
   "metadata": {},
   "outputs": [
    {
     "name": "stdout",
     "output_type": "stream",
     "text": [
      "/home/harsh/Downloads/Thesis/Graph/dgl/related_code/3-basics\r\n"
     ]
    }
   ],
   "source": [
    "!pwd\n",
    "import os\n",
    "import json\n",
    "import pandas as pd\n",
    "import numpy as np\n",
    "import json\n",
    "\n",
    "file_names = ['houseA','houseB','houseC','ordonezA','ordonezB']\n",
    "\n",
    "for file_name in file_names:\n",
    "    \n",
    "    json_file_name = file_name + '.json'\n",
    "    csv_file_name = file_name + '.csv'\n",
    "    \n",
    "    json_file = os.path.join('../../data', file_name, json_file_name )\n",
    "    csv_file = os.path.join('../../data', file_name, csv_file_name)\n",
    "\n",
    "        \n",
    "    with open(json_file) as f:\n",
    "        json_file = json.load(f)\n",
    "\n",
    "\n",
    "    csv_file = pd.read_csv(csv_file)\n",
    "\n",
    "    locations = json_file['locations']\n",
    "\n",
    "    sensors = json_file['sensors']\n",
    "\n",
    "    def sensor_place_in_house_ID(col_name, location_id = 1):\n",
    "        # Find sensor dict and take the location key, whose name matches with col names        \n",
    "        location_id = [x['location'] for x in sensors if x['name'] == col_name][0]            \n",
    "        if len(location_id) == 1:\n",
    "            location_type = [x['type'] for x in locations if x['id'] == location_id[0]][0]\n",
    "            return [rooms.index(location_type)]\n",
    "        else:\n",
    "            items =[]\n",
    "            for item in location_id:\n",
    "                location_type = [x['type'] for x in locations if x['id'] == item][0]        \n",
    "                items.append(rooms.index(location_type))\n",
    "            return items\n",
    "\n",
    "\n",
    "    # get rooms as nodes first, by giving them id and make a dictionary of their features\n",
    "    nodes_dictionary_list = []\n",
    "    d = {}\n",
    "\n",
    "    rooms = [name['type'] for name in locations]\n",
    "    count  = 0\n",
    "    # convert it into a dictionary list\n",
    "    for i, node in enumerate(rooms):\n",
    "        d = {}\n",
    "        d['Id'] = count\n",
    "        d['Object'] = node\n",
    "        d['Value'] = -1\n",
    "        d['place_in_house'] = count\n",
    "        d['Type'] = 1\n",
    "        count+= 1\n",
    "        nodes_dictionary_list.append(d)\n",
    "\n",
    "\n",
    "    # csv column names\n",
    "    col = list(csv_file.columns[4:].values)\n",
    "    \n",
    "    for i, col_name in enumerate(col):\n",
    "        Id = i\n",
    "        Object = col_name.split('_')[0]\n",
    "        Value = -1            \n",
    "        place_in_house = sensor_place_in_house_ID(Object)\n",
    "        Type = 0\n",
    "\n",
    "        # Append to nodes_dictionary_list \n",
    "\n",
    "        for location_id in place_in_house:\n",
    "            d = {}        \n",
    "            d['Id'] = len(nodes_dictionary_list)\n",
    "            d['Object'] = Object\n",
    "            d['Value'] = -1    \n",
    "            d['Type'] = 0    \n",
    "            d['place_in_house'] = location_id        \n",
    "            nodes_dictionary_list.append(d)\n",
    "\n",
    "    # Adding time of the day as the last node\n",
    "\n",
    "    d ={}\n",
    "    d['Id'] = len(nodes_dictionary_list)\n",
    "    d['Object'] = 'time_of_the_day'\n",
    "    d['Value'] = -1    \n",
    "    d['Type'] = -1    \n",
    "    d['place_in_house'] = -1        \n",
    "\n",
    "    nodes_dictionary_list.append(d)\n",
    "\n",
    "    # print(list(nodes_dictionary_list))\n",
    "\n",
    "    import csv\n",
    "\n",
    "    toCSV = nodes_dictionary_list\n",
    "\n",
    "\n",
    "\n",
    "    # json_file = os.path.join('../../data', file_name)\n",
    "\n",
    "\n",
    "    keys = toCSV[0].keys()\n",
    "    with open(os.path.join('../../data', file_name, 'nodes.csv'), 'w', newline='')  as output_file:\n",
    "        dict_writer = csv.DictWriter(output_file, keys)\n",
    "        dict_writer.writeheader()\n",
    "        dict_writer.writerows(toCSV)\n",
    "\n",
    "\n",
    "\n",
    "    # Write Edge.csv\n",
    "\n",
    "    # Make a list of src and destination and write it via pandas\n",
    "    Src = []\n",
    "    Dst = []\n",
    "    for node_dict in nodes_dictionary_list:\n",
    "        if node_dict['Type'] == 0:\n",
    "            # Birectional Edges\n",
    "            Src.append(node_dict['Id'])\n",
    "            Dst.append(node_dict['place_in_house'])\n",
    "\n",
    "            Src.append(node_dict['place_in_house'])\n",
    "            Dst.append(node_dict['Id'])\n",
    "\n",
    "\n",
    "    # Connect rooms \n",
    "\n",
    "    for location_dict in locations:    \n",
    "        src_location_id = rooms.index(location_dict['type'])\n",
    "\n",
    "        reaches_list = location_dict['reaches']\n",
    "        for reach_id in reaches_list:        \n",
    "            Type = [x['type'] for x in locations if x['id'] ==  reach_id][0]\n",
    "            dst_location_id = rooms.index(Type)        \n",
    "            Src.append(src_location_id)\n",
    "            Dst.append(dst_location_id)\n",
    "\n",
    "    Src.append(nodes_dictionary_list[-1]['Id'])\n",
    "    Dst.append(nodes_dictionary_list[-1]['Id'])\n",
    "\n",
    "    df = pd.DataFrame({'Src' : Src,'Dst' : Dst})    \n",
    "    df.to_csv(os.path.join('../../data', file_name, 'bidrectional_edges.csv'), index=False)\n"
   ]
  },
  {
   "cell_type": "code",
   "execution_count": 12,
   "metadata": {},
   "outputs": [],
   "source": [
    "import pandas as pd\n",
    "import numpy as np\n",
    "import pandas as pd\n",
    "import json"
   ]
  },
  {
   "cell_type": "code",
   "execution_count": 14,
   "metadata": {},
   "outputs": [],
   "source": [
    "houseB = pd.read_csv('../../data/houseB/houseB.csv')"
   ]
  },
  {
   "cell_type": "code",
   "execution_count": 17,
   "metadata": {},
   "outputs": [
    {
     "name": "stdout",
     "output_type": "stream",
     "text": [
      "26\n"
     ]
    }
   ],
   "source": [
    "print(len(houseB.iloc[0, :]))"
   ]
  },
  {
   "cell_type": "code",
   "execution_count": 173,
   "metadata": {},
   "outputs": [],
   "source": []
  },
  {
   "cell_type": "code",
   "execution_count": 179,
   "metadata": {},
   "outputs": [],
   "source": []
  },
  {
   "cell_type": "code",
   "execution_count": null,
   "metadata": {},
   "outputs": [],
   "source": []
  },
  {
   "cell_type": "code",
   "execution_count": null,
   "metadata": {},
   "outputs": [],
   "source": []
  },
  {
   "cell_type": "code",
   "execution_count": null,
   "metadata": {},
   "outputs": [],
   "source": []
  },
  {
   "cell_type": "code",
   "execution_count": null,
   "metadata": {},
   "outputs": [],
   "source": []
  },
  {
   "cell_type": "code",
   "execution_count": 177,
   "metadata": {},
   "outputs": [],
   "source": [
    "# (a) x <= 5\n",
    "# (d) 60 < x <= 120 \n",
    "# (f) 150 < x <= 660\n",
    "# (b) 5 < x <= 30 \n",
    "# (e) 120 < x <= 150 \n",
    "# (g) x > 660\n",
    "# (c) 30 < x <= 60"
   ]
  },
  {
   "cell_type": "code",
   "execution_count": 178,
   "metadata": {},
   "outputs": [],
   "source": [
    "seq_length = 1\n",
    "prev_index = 0\n",
    "seq_list = []\n",
    "for index, row in df[:-1].iterrows():\n",
    "    \n",
    "    prev_value = df.iloc[prev_index, 4:]\n",
    "    prev_value = ''.join(map(str, prev_value.values))\n",
    "    \n",
    "    if prev_value == ''.join(map(str, df.iloc[index + 1, 4:].values)):\n",
    "        seq_length += 1\n",
    "    else:        \n",
    "        seq_list.append(seq_length)\n",
    "        seq_length = 1\n",
    "        prev_index = index + 1                \n",
    "    \n",
    "#     if index == 1000:\n",
    "#         break\n",
    "\n",
    "# sum_list =  row to be choosen in new dataframe.\n",
    "sum_list = []\n",
    "for i in range(len(seq_list)):\n",
    "    sum_list.append(sum(seq_list[:i + 1]) -1)\n",
    "# print('final rows list  ',sum_list)\n",
    "\n",
    "# Seq_list = unary representation for each unique\n",
    "# print('seq list ',  seq_list)\n",
    "\n",
    "truncatedDataframe = pd.DataFrame([])\n",
    "\n",
    "for index, x in enumerate(sum_list):         \n",
    "    truncatedDataframe = truncatedDataframe.append(df.iloc[sum_list[index] ,:])\n",
    "\n",
    "\n",
    "# convert each value according to bin, \n",
    "bins_seq_list = np.copy(seq_list)\n",
    "for i, x in enumerate(bins_seq_list):\n",
    "    if x <= 5:\n",
    "        bins_seq_list[i] = 1\n",
    "    elif 5 < x <= 30:\n",
    "        bins_seq_list[i] = 2\n",
    "    elif 30 < x <= 60:\n",
    "        bins_seq_list[i] = 3\n",
    "    elif 60 < x <= 120:\n",
    "        bins_seq_list[i] = 4\n",
    "    elif 120 < x <= 150:\n",
    "        bins_seq_list[i] = 5\n",
    "    elif 150 < x <= 660:\n",
    "        bins_seq_list[i] = 6\n",
    "    elif x > 660:\n",
    "        bins_seq_list[i] = 7\n",
    "                \n"
   ]
  },
  {
   "cell_type": "code",
   "execution_count": null,
   "metadata": {},
   "outputs": [],
   "source": []
  },
  {
   "cell_type": "code",
   "execution_count": 179,
   "metadata": {},
   "outputs": [],
   "source": [
    "truncatedDataframe['one_hot_time_of_the_day'] = round(truncatedDataframe['time_of_the_day'] * 24)\n",
    "\n",
    "truncatedDataframe['one_hot_time_of_the_day'] = truncatedDataframe['one_hot_time_of_the_day'].apply(lambda x: np.array(x))\n",
    "\n",
    "\n"
   ]
  },
  {
   "cell_type": "code",
   "execution_count": 180,
   "metadata": {},
   "outputs": [
    {
     "data": {
      "text/plain": [
       "6"
      ]
     },
     "execution_count": 180,
     "metadata": {},
     "output_type": "execute_result"
    }
   ],
   "source": [
    "max(bins_seq_list)"
   ]
  },
  {
   "cell_type": "code",
   "execution_count": 181,
   "metadata": {},
   "outputs": [],
   "source": [
    "\n",
    "# convert to unary representation\n",
    "final_unary_list = []\n",
    "\n",
    "for i in range(len(bins_seq_list)):\n",
    "    gn_list = 7 * [0]\n",
    "    ones_list = np.ones(bins_seq_list[i], dtype = int)\n",
    "    zero_list = np.zeros(7 - bins_seq_list[i], dtype = int)\n",
    "    unary_list = np.append(ones_list , zero_list)\n",
    "    final_unary_list.append(unary_list)\n",
    "    \n",
    "truncatedDataframe['repeated_activitiesUnary'] = final_unary_list\n",
    "truncatedDataframe['repeated_activitiesUnary'] = truncatedDataframe['repeated_activitiesUnary'].apply(lambda x: np.array(x))"
   ]
  },
  {
   "cell_type": "code",
   "execution_count": 182,
   "metadata": {},
   "outputs": [],
   "source": [
    "# truncatedDataframe.head()"
   ]
  },
  {
   "cell_type": "code",
   "execution_count": 183,
   "metadata": {},
   "outputs": [],
   "source": [
    "# list(final_unary_list)"
   ]
  },
  {
   "cell_type": "code",
   "execution_count": 184,
   "metadata": {},
   "outputs": [
    {
     "data": {
      "text/plain": [
       "[{'name': 'leaveHouse', 'id': 0},\n",
       " {'name': 'idle', 'id': 1},\n",
       " {'name': 'prepareDinner', 'id': 2},\n",
       " {'name': 'eatDinner', 'id': 3},\n",
       " {'name': 'getDrink', 'id': 4},\n",
       " {'name': 'washDishes', 'id': 5},\n",
       " {'name': 'brushTeeth', 'id': 6},\n",
       " {'name': 'goToBed', 'id': 7},\n",
       " {'name': 'useToilet', 'id': 8},\n",
       " {'name': 'prepareBreakfast', 'id': 9},\n",
       " {'name': 'eatBreakfast', 'id': 10},\n",
       " {'name': 'takeShower', 'id': 11},\n",
       " {'name': 'getDressed', 'id': 12}]"
      ]
     },
     "execution_count": 184,
     "metadata": {},
     "output_type": "execute_result"
    }
   ],
   "source": [
    "[{\"name\": activity, \"id\":idx} for idx, activity in enumerate(pd.unique( df['activity']))]"
   ]
  },
  {
   "cell_type": "code",
   "execution_count": 185,
   "metadata": {},
   "outputs": [],
   "source": [
    "final_one_hot_time_of_day = []\n",
    "for val in truncatedDataframe['one_hot_time_of_the_day']:        \n",
    "    a = np.zeros(25, dtype = int)\n",
    "    a[int(val)] =  1\n",
    "    final_one_hot_time_of_day.append(a)\n",
    "    "
   ]
  },
  {
   "cell_type": "code",
   "execution_count": 186,
   "metadata": {},
   "outputs": [
    {
     "data": {
      "text/plain": [
       "numpy.int64"
      ]
     },
     "execution_count": 186,
     "metadata": {},
     "output_type": "execute_result"
    }
   ],
   "source": [
    "type(final_one_hot_time_of_day[0][0])"
   ]
  },
  {
   "cell_type": "code",
   "execution_count": 187,
   "metadata": {},
   "outputs": [],
   "source": [
    "truncatedDataframe['one_hot_time_of_the_day'] = final_one_hot_time_of_day"
   ]
  },
  {
   "cell_type": "code",
   "execution_count": 188,
   "metadata": {},
   "outputs": [],
   "source": [
    "# Shuffling the column to restore the original order\n",
    "col = truncatedDataframe.columns.values.tolist()\n",
    "\n",
    "cols = ['start', 'end', 'activity', 'time_of_the_day']\n",
    "\n",
    "col = [x for x in col if x not in cols]\n",
    "col.insert(0, 'start')\n",
    "col.insert(1, 'end')\n",
    "col.insert(2, 'activity')\n",
    "col.insert(3, 'time_of_the_day')\n",
    "\n",
    "truncatedDataframe = truncatedDataframe[col]"
   ]
  },
  {
   "cell_type": "code",
   "execution_count": 194,
   "metadata": {},
   "outputs": [],
   "source": [
    "truncatedDataframe.iloc[:, 4:26] = truncatedDataframe.iloc[:, 4:26].apply(pd.to_numeric, downcast='integer')"
   ]
  },
  {
   "cell_type": "code",
   "execution_count": 195,
   "metadata": {},
   "outputs": [],
   "source": [
    "truncatedDataframe.to_pickle('../../Thesis/dummyTestforPycharm/data/houseC/one_hot')\n",
    "\n",
    "truncatedDataframe.to_csv('../../Thesis/dummyTestforPycharm/data/houseC/one_hot.csv')"
   ]
  },
  {
   "cell_type": "code",
   "execution_count": 196,
   "metadata": {},
   "outputs": [
    {
     "name": "stdout",
     "output_type": "stream",
     "text": [
      "0        [0, 0, 0, 0, 0, 0, 0, 0, 0, 0, 0, 0, 0, 0, 0, ...\n",
      "20       [0, 0, 0, 0, 0, 0, 0, 0, 0, 0, 0, 0, 0, 0, 0, ...\n",
      "21       [0, 0, 0, 0, 0, 0, 0, 0, 0, 0, 0, 0, 0, 0, 0, ...\n",
      "22       [0, 0, 0, 0, 0, 0, 0, 0, 0, 0, 0, 0, 0, 0, 0, ...\n",
      "25       [0, 0, 0, 0, 0, 0, 0, 0, 0, 0, 0, 0, 0, 0, 0, ...\n",
      "                               ...                        \n",
      "20546    [0, 0, 0, 0, 0, 0, 0, 0, 0, 0, 0, 0, 0, 0, 0, ...\n",
      "20558    [0, 0, 0, 0, 0, 0, 0, 0, 0, 0, 0, 0, 0, 0, 0, ...\n",
      "20559    [0, 0, 0, 0, 0, 0, 0, 0, 0, 0, 0, 0, 0, 0, 0, ...\n",
      "20572    [0, 0, 0, 0, 0, 0, 0, 0, 0, 0, 0, 0, 0, 0, 0, ...\n",
      "20573    [0, 0, 0, 0, 0, 0, 0, 0, 0, 0, 0, 0, 0, 0, 0, ...\n",
      "Name: one_hot_time_of_the_day, Length: 2148, dtype: object\n"
     ]
    }
   ],
   "source": [
    "print(truncatedDataframe['one_hot_time_of_the_day'])"
   ]
  },
  {
   "cell_type": "code",
   "execution_count": 197,
   "metadata": {},
   "outputs": [
    {
     "data": {
      "text/plain": [
       "start                         object\n",
       "end                           object\n",
       "activity                      object\n",
       "time_of_the_day              float64\n",
       "BalconyDoor_24                  int8\n",
       "BathroomPIR_19                  int8\n",
       "BedPressureLeft_13              int8\n",
       "BedPressureRight_12             int8\n",
       "BedroomDoor_10                  int8\n",
       "BedroomDresser_18               int8\n",
       "BedroomMovement_16              int8\n",
       "CutleryDrawer_14                int8\n",
       "Fridge_3                        int8\n",
       "Frontdoor_7                     int8\n",
       "GroceriesCupboard_5             int8\n",
       "KitchenPIR_28                   int8\n",
       "KitchenWindow_25                int8\n",
       "Microwave_27                    int8\n",
       "PianoSeatPressure_20            int8\n",
       "PlatesCupboard_9                int8\n",
       "ServerNookSeatPressure_22       int8\n",
       "SinkFloat_21                    int8\n",
       "StoveLid_15                     int8\n",
       "Toaster_26                      int8\n",
       "ToiletDoor_1                    int8\n",
       "ToiletFlush_6                   int8\n",
       "one_hot_time_of_the_day       object\n",
       "repeated_activitiesUnary      object\n",
       "dtype: object"
      ]
     },
     "execution_count": 197,
     "metadata": {},
     "output_type": "execute_result"
    }
   ],
   "source": [
    "truncatedDataframe.dtypes"
   ]
  },
  {
   "cell_type": "code",
   "execution_count": null,
   "metadata": {},
   "outputs": [],
   "source": []
  },
  {
   "cell_type": "code",
   "execution_count": null,
   "metadata": {},
   "outputs": [],
   "source": []
  },
  {
   "cell_type": "code",
   "execution_count": null,
   "metadata": {},
   "outputs": [],
   "source": []
  },
  {
   "cell_type": "code",
   "execution_count": null,
   "metadata": {},
   "outputs": [],
   "source": []
  },
  {
   "cell_type": "code",
   "execution_count": null,
   "metadata": {},
   "outputs": [],
   "source": []
  },
  {
   "cell_type": "code",
   "execution_count": null,
   "metadata": {},
   "outputs": [],
   "source": []
  },
  {
   "cell_type": "code",
   "execution_count": null,
   "metadata": {},
   "outputs": [],
   "source": []
  },
  {
   "cell_type": "code",
   "execution_count": null,
   "metadata": {},
   "outputs": [],
   "source": []
  },
  {
   "cell_type": "code",
   "execution_count": null,
   "metadata": {},
   "outputs": [],
   "source": []
  },
  {
   "cell_type": "code",
   "execution_count": null,
   "metadata": {},
   "outputs": [],
   "source": []
  }
 ],
 "metadata": {
  "kernelspec": {
   "display_name": "Python 3",
   "language": "python",
   "name": "python3"
  },
  "language_info": {
   "codemirror_mode": {
    "name": "ipython",
    "version": 3
   },
   "file_extension": ".py",
   "mimetype": "text/x-python",
   "name": "python",
   "nbconvert_exporter": "python",
   "pygments_lexer": "ipython3",
   "version": "3.7.0"
  }
 },
 "nbformat": 4,
 "nbformat_minor": 4
}
